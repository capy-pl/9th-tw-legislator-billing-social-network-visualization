{
 "cells": [
  {
   "cell_type": "code",
   "execution_count": 1,
   "metadata": {},
   "outputs": [],
   "source": [
    "import requests\n",
    "import json\n",
    "from datetime import date\n",
    "import pandas as pd\n",
    "import base64\n",
    "import igraph"
   ]
  },
  {
   "cell_type": "code",
   "execution_count": 2,
   "metadata": {},
   "outputs": [],
   "source": [
    "none_legislator_list = set(\n",
    "['親民黨黨團',\n",
    " '司法院',\n",
    " '時代力量黨團',\n",
    " '1819',\n",
    " '民進黨黨團',\n",
    " '國民黨黨團',\n",
    " '行政院',\n",
    " '考試院'])"
   ]
  },
  {
   "cell_type": "code",
   "execution_count": 3,
   "metadata": {},
   "outputs": [],
   "source": [
    "class Bill:\n",
    "    def __init__(self, bill, index):\n",
    "        self.id = index\n",
    "        self.date = bill['date']\n",
    "        self.term = bill['term']\n",
    "        self.session_times = bill['sessionTimes']\n",
    "        self.session_period = bill['sessionPeriod']\n",
    "        self.bill_name = bill['billName']\n",
    "        if type(bill['billProposer']) == str:\n",
    "            self.bill_proposer = self.parse_names_to_list(bill['billProposer'])\n",
    "        else:\n",
    "            self.bill_proposer = bill['billProposer']\n",
    "        if type(bill['billCosignatory']) == str:\n",
    "            self.bill_cosignatory = self.parse_names_to_list(bill['billCosignatory'])\n",
    "        else:\n",
    "            self.bill_cosignatory = bill['billCosignatory']\n",
    "    \n",
    "    def parse_names_to_list(self, names):\n",
    "        names = names.replace(' ', '').split(';')\n",
    "        return [name if name != 'KolasYotaka' else '谷辣斯．尤達卡' for name in names]\n",
    "    \n",
    "    def parse_date(self, roc_date):\n",
    "        year = int(roc_date[0:3]) + 1911\n",
    "        month = int(roc_date[3:5])\n",
    "        day = int(roc_date[5:])\n",
    "        return date(year, month, day)\n",
    "    \n",
    "    def has_none_legislator(self):\n",
    "        for name in self.bill_proposer:\n",
    "            if name in none_legislator_list:\n",
    "                return True\n",
    "        for name in self.bill_cosignatory:\n",
    "            if name in none_legislator_list:\n",
    "                return True\n",
    "        return False\n",
    "    \n",
    "    def to_dict(self):\n",
    "        return {\n",
    "            'id' : self.id,\n",
    "            'date': self.date,\n",
    "            'term': self.term,\n",
    "            'sessionTimes': self.session_times,\n",
    "            'sessionPeriod': self.session_period,\n",
    "            'billName': self.bill_name,\n",
    "            'billProposer': self.bill_proposer,\n",
    "            'billCosignatory': self.bill_cosignatory,\n",
    "        }\n"
   ]
  },
  {
   "cell_type": "code",
   "execution_count": 5,
   "metadata": {},
   "outputs": [
    {
     "output_type": "error",
     "ename": "NameError",
     "evalue": "name 'legislator_df' is not defined",
     "traceback": [
      "\u001b[1;31m---------------------------------------------------------------------------\u001b[0m",
      "\u001b[1;31mNameError\u001b[0m                                 Traceback (most recent call last)",
      "\u001b[1;32m<ipython-input-5-9eda742857c5>\u001b[0m in \u001b[0;36m<module>\u001b[1;34m\u001b[0m\n\u001b[1;32m----> 1\u001b[1;33m \u001b[1;32mfor\u001b[0m \u001b[0mi\u001b[0m \u001b[1;32min\u001b[0m \u001b[0mrange\u001b[0m\u001b[1;33m(\u001b[0m\u001b[0mlegislator_df\u001b[0m\u001b[1;33m.\u001b[0m\u001b[0mshape\u001b[0m\u001b[1;33m[\u001b[0m\u001b[1;36m0\u001b[0m\u001b[1;33m]\u001b[0m\u001b[1;33m)\u001b[0m\u001b[1;33m:\u001b[0m\u001b[1;33m\u001b[0m\u001b[1;33m\u001b[0m\u001b[0m\n\u001b[0m\u001b[0;32m      2\u001b[0m     \u001b[1;31m# handle some name special case\u001b[0m\u001b[1;33m\u001b[0m\u001b[1;33m\u001b[0m\u001b[1;33m\u001b[0m\u001b[0m\n\u001b[0;32m      3\u001b[0m     \u001b[0mdic\u001b[0m \u001b[1;33m=\u001b[0m \u001b[0mlegislator_df\u001b[0m\u001b[1;33m.\u001b[0m\u001b[0miloc\u001b[0m\u001b[1;33m[\u001b[0m\u001b[0mi\u001b[0m\u001b[1;33m]\u001b[0m\u001b[1;33m.\u001b[0m\u001b[0mto_dict\u001b[0m\u001b[1;33m(\u001b[0m\u001b[1;33m)\u001b[0m\u001b[1;33m\u001b[0m\u001b[1;33m\u001b[0m\u001b[0m\n\u001b[0;32m      4\u001b[0m     \u001b[1;32mif\u001b[0m \u001b[0mdic\u001b[0m\u001b[1;33m[\u001b[0m\u001b[1;34m'name'\u001b[0m\u001b[1;33m]\u001b[0m \u001b[1;33m==\u001b[0m \u001b[1;34m'谷辣斯‧尤達卡Kolas‧Yotaka'\u001b[0m\u001b[1;33m:\u001b[0m\u001b[1;33m\u001b[0m\u001b[1;33m\u001b[0m\u001b[0m\n\u001b[0;32m      5\u001b[0m         \u001b[0mdic\u001b[0m\u001b[1;33m[\u001b[0m\u001b[1;34m'name'\u001b[0m\u001b[1;33m]\u001b[0m \u001b[1;33m=\u001b[0m \u001b[1;34m'谷辣斯．尤達卡'\u001b[0m\u001b[1;33m\u001b[0m\u001b[1;33m\u001b[0m\u001b[0m\n",
      "\u001b[1;31mNameError\u001b[0m: name 'legislator_df' is not defined"
     ]
    }
   ],
   "source": [
    "for i in range(legislator_df.shape[0]):\n",
    "    # handle some name special case\n",
    "    dic = legislator_df.iloc[i].to_dict()\n",
    "    if dic['name'] == '谷辣斯‧尤達卡Kolas‧Yotaka':\n",
    "        dic['name'] = '谷辣斯．尤達卡'\n",
    "    if dic['name'] == '高潞‧以用‧巴魕剌Kawlo‧Iyun‧Pacidal':\n",
    "        dic['name'] = '高潞．以用．巴魕剌'\n",
    "    if dic['name'] == '廖國棟Sufin‧Siluko':\n",
    "        dic['name'] = '廖國棟'\n",
    "    if dic['name'] == '鄭天財Sra‧Kacaw':\n",
    "        dic['name'] = '鄭天財'\n",
    "    if dic['name'] == '簡東明Uliw．Qaljupayare':\n",
    "        dic['name'] = '簡東明'\n",
    "    legislator_dict_list.append(dic)"
   ]
  },
  {
   "cell_type": "code",
   "execution_count": 4,
   "metadata": {},
   "outputs": [],
   "source": [
    "class Legislator:\n",
    "    def __init__(self, legislator, index):\n",
    "        self.id = index\n",
    "        self.term = legislator['term']\n",
    "        self.name = legislator['name']\n",
    "        self.sex = legislator['sex']\n",
    "        self.party = legislator['party']\n",
    "        self.partyGroup = legislator['partyGroup']\n",
    "        self.areaName = legislator['areaName']\n",
    "        self.committee = legislator['committee']\n",
    "        self.degree = legislator['degree']\n",
    "        self.experience = legislator['experience']\n",
    "        self.picUrl = legislator['picUrl']\n",
    "        if 'picBase64' in legislator:\n",
    "            self.picBase64 = legislator['picBase64']\n",
    "        else:\n",
    "            self.picBase64 = None\n",
    "\n",
    "    def parse_string_to_list(self, committee_string):\n",
    "        li = list(filter(lambda x: len(x) > 0, committee_string.replace(' ', '').split(';')))\n",
    "        return li\n",
    "    \n",
    "    def fetch_pic(self):\n",
    "        result = requests.get(self.picUrl)\n",
    "        self.picBase64 = base64.b64encode(result.content).decode('ascii')\n",
    "    \n",
    "    def save_pic_to_jpg(self, file_path):\n",
    "        img_byte = base64.b64decode(self.picBase64.encode('ascii'))\n",
    "        with open(file_path, 'wb') as file:\n",
    "            file.write(img_byte)\n",
    "\n",
    "    def to_dict(self):\n",
    "        return {\n",
    "            'id': self.id,\n",
    "            'term': self.term,\n",
    "            'name': self.name,\n",
    "            'sex' : self.sex,\n",
    "            'party': self.party,\n",
    "            'partyGroup': self.partyGroup,\n",
    "            'areaName': self.areaName,\n",
    "            'committee': self.committee,\n",
    "            'degree': self.degree if type(self.degree) is list else [],\n",
    "            'experience': self.experience,\n",
    "            'picUrl': self.picUrl,\n",
    "            'picBase64': self.picBase64\n",
    "        }"
   ]
  },
  {
   "cell_type": "code",
   "execution_count": 5,
   "metadata": {},
   "outputs": [],
   "source": [
    "with open('../src/data/legislator.json', 'r') as file:\n",
    "    legislator_dict_list = json.load(file)"
   ]
  },
  {
   "cell_type": "code",
   "execution_count": 6,
   "metadata": {},
   "outputs": [],
   "source": [
    "legislator_list = [Legislator(legislator, legislator['id']) for legislator in legislator_dict_list]"
   ]
  },
  {
   "cell_type": "code",
   "execution_count": 7,
   "metadata": {},
   "outputs": [],
   "source": [
    "with open('..//src/data/bills.json', 'r') as file:\n",
    "    bill_dict_list = json.load(file)"
   ]
  },
  {
   "cell_type": "code",
   "execution_count": 8,
   "metadata": {},
   "outputs": [],
   "source": [
    "billing_list = [Bill(dic, index) for index, dic in enumerate(bill_dict_list)]"
   ]
  },
  {
   "cell_type": "code",
   "execution_count": 9,
   "metadata": {},
   "outputs": [],
   "source": [
    "with open('../src/data/remove-none-legislator-bill.json', 'r') as file:\n",
    "    remove_none_legislator_bill_dict_list = json.load(file)"
   ]
  },
  {
   "cell_type": "code",
   "execution_count": 10,
   "metadata": {},
   "outputs": [],
   "source": [
    "remove_none_legislator_bill_list = [Bill(dic, index) for index, dic in enumerate(remove_none_legislator_bill_dict_list)]"
   ]
  },
  {
   "cell_type": "code",
   "execution_count": 11,
   "metadata": {},
   "outputs": [],
   "source": [
    "legislator_reverse_map = { legislator.name: legislator.id for legislator in legislator_list }"
   ]
  },
  {
   "cell_type": "code",
   "execution_count": 12,
   "metadata": {},
   "outputs": [],
   "source": [
    "bill_proposer_edges = {}\n",
    "bill_cosignatory_edges = {}\n",
    "bill_total_edges = {}"
   ]
  },
  {
   "cell_type": "code",
   "execution_count": 13,
   "metadata": {},
   "outputs": [],
   "source": [
    "from itertools import combinations\n",
    "\n",
    "def generate_edge(names_list):\n",
    "    # convert name to index\n",
    "    index_list = [legislator_reverse_map[name] for name in names_list]\n",
    "    index_list.sort()\n",
    "    return list(combinations(index_list, 2))\n"
   ]
  },
  {
   "cell_type": "code",
   "execution_count": 14,
   "metadata": {},
   "outputs": [],
   "source": [
    "class Edge:\n",
    "    def __init__(self, edge, weight):\n",
    "        self.edge = edge\n",
    "        self.weight = weight\n",
    "    \n",
    "    def to_dict(self):\n",
    "        return {\n",
    "            'edge': list(self.edge),\n",
    "            'weight': self.weight\n",
    "        }"
   ]
  },
  {
   "cell_type": "code",
   "execution_count": 15,
   "metadata": {},
   "outputs": [],
   "source": [
    "class Node:\n",
    "    def __init__(self, id, weight):\n",
    "        self.id = id\n",
    "        self.weight = weight\n",
    "    \n",
    "    def to_dict(self):\n",
    "        return {\n",
    "            'id': self.id,\n",
    "            'weight': self.weight,\n",
    "        }"
   ]
  },
  {
   "cell_type": "code",
   "execution_count": 16,
   "metadata": {},
   "outputs": [],
   "source": [
    "class Graph:\n",
    "    def __init__(self, name, nodes=[], edges=[]):\n",
    "        self.name = name\n",
    "        self.nodes = self.to_node(nodes, edges)\n",
    "        self.edges = edges\n",
    "        self.communities = []\n",
    "        self.graph = self.to_igraph()\n",
    "        self.find_communities()\n",
    "\n",
    "\n",
    "    def to_igraph(self):\n",
    "        graph = igraph.Graph()\n",
    "        graph.add_vertices(nodes)\n",
    "        graph.add_edges([edge.edge for edge in self.edges], attributes={'weight': [edge.weight for edge in self.edges]} )\n",
    "        return graph\n",
    "    \n",
    "    def find_communities(self):\n",
    "        cls = self.graph.community_label_propagation(weights='weight')\n",
    "        subgraphs = cls.subgraphs()\n",
    "        for subgraph in subgraphs:\n",
    "            self.communities.append([vx['name'] for vx in subgraph.vs])\n",
    "\n",
    "    def to_node(self, nodes, edges):\n",
    "        node_list = [ Node(node, 0) for node in nodes ]\n",
    "        for edge in edges:\n",
    "            node_list[edge.edge[0]].weight += edge.weight\n",
    "            node_list[edge.edge[1]].weight += edge.weight\n",
    "        return node_list\n",
    "\n",
    "    def to_dict(self):\n",
    "        return {\n",
    "            'name' : self.name,\n",
    "            'nodes': [node.to_dict() for node in self.nodes],\n",
    "            'edges': [ edge.to_dict() for edge in self.edges],\n",
    "            'communities': self.communities\n",
    "        }"
   ]
  },
  {
   "cell_type": "code",
   "execution_count": 17,
   "metadata": {
    "tags": []
   },
   "outputs": [],
   "source": [
    "for bill in remove_none_legislator_bill_list:\n",
    "    proposer_edges = generate_edge(bill.bill_proposer)\n",
    "    cosignatory_edges = generate_edge(bill.bill_cosignatory)\n",
    "    total_edges = generate_edge(bill.bill_proposer + bill.bill_cosignatory)\n",
    "    for edge in proposer_edges:\n",
    "        if edge in bill_proposer_edges:\n",
    "            bill_proposer_edges[edge] += 1\n",
    "        else:\n",
    "            bill_proposer_edges[edge] = 1\n",
    "\n",
    "    for edge in cosignatory_edges:\n",
    "        if edge in bill_cosignatory_edges:\n",
    "            bill_cosignatory_edges[edge] += 1\n",
    "        else:\n",
    "            bill_cosignatory_edges[edge] = 1\n",
    "\n",
    "    for edge in total_edges:\n",
    "        if edge in bill_total_edges:\n",
    "            bill_total_edges[edge] += 1\n",
    "        else:\n",
    "            bill_total_edges[edge] = 1\n",
    "    "
   ]
  },
  {
   "cell_type": "code",
   "execution_count": 18,
   "metadata": {},
   "outputs": [],
   "source": [
    "nodes = [legislator.id for legislator in legislator_list]"
   ]
  },
  {
   "cell_type": "code",
   "execution_count": 19,
   "metadata": {},
   "outputs": [],
   "source": [
    "bill_proposer_graph = Graph('發起連署人網路圖', nodes, [Edge(key, value) for key, value in bill_proposer_edges.items()])\n",
    "bill_cosignatory_graph = Graph('共同連署人網路圖', nodes, [Edge(key, value) for key, value in bill_cosignatory_edges.items()])\n",
    "bill_total_graph = Graph('連署網路圖', nodes, [Edge(key, value) for key, value in bill_total_edges.items()])"
   ]
  },
  {
   "cell_type": "code",
   "execution_count": 28,
   "metadata": {},
   "outputs": [
    {
     "output_type": "stream",
     "name": "stdout",
     "text": [
      "王金平(中國國民黨)\n王育敏(中國國民黨)\n王惠美(中國國民黨)\n孔文吉(中國國民黨)\n江啟臣(中國國民黨)\n吳志揚(中國國民黨)\n呂玉玲(中國國民黨)\n李彥秀(中國國民黨)\n李鴻鈞(親民黨)\n周陳秀霞(親民黨)\n林為洲(中國國民黨)\n林德福(中國國民黨)\n林麗蟬(中國國民黨)\n柯志恩(中國國民黨)\n徐志榮(中國國民黨)\n徐榛蔚(中國國民黨)\n馬文君(中國國民黨)\n高金素梅(無黨團結聯盟)\n張麗善(中國國民黨)\n許淑華(中國國民黨)\n許毓仁(中國國民黨)\n陳宜民(中國國民黨)\n陳怡潔(親民黨)\n陳雪生(中國國民黨)\n陳超明(中國國民黨)\n陳學聖(中國國民黨)\n曾銘宗(中國國民黨)\n費鴻泰(中國國民黨)\n黃昭順(中國國民黨)\n楊鎮浯(中國國民黨)\n廖國棟(中國國民黨)\n蔣乃辛(中國國民黨)\n蔣萬安(中國國民黨)\n鄭天財(中國國民黨)\n盧秀燕(中國國民黨)\n賴士葆(中國國民黨)\n簡東明(中國國民黨)\n顏寬恒(中國國民黨)\n羅明才(中國國民黨)\n林奕華(中國國民黨)\n童惠珍(中國國民黨)\n沈智慧(中國國民黨)\n===========================\n王定宇(民主進步黨)\n王榮璋(民主進步黨)\n尤美女(民主進步黨)\n江永昌(民主進步黨)\n何欣純(民主進步黨)\n余宛如(民主進步黨)\n吳玉琴(民主進步黨)\n吳秉叡(民主進步黨)\n吳思瑤(民主進步黨)\n吳焜裕(民主進步黨)\n吳琪銘(民主進步黨)\n呂孫綾(民主進步黨)\n李昆澤(民主進步黨)\n李俊俋(民主進步黨)\n李應元(民主進步黨)\n谷辣斯．尤達卡(民主進步黨)\n周春米(民主進步黨)\n林岱樺(民主進步黨)\n林俊憲(民主進步黨)\n林昶佐(無黨籍)\n林淑芬(民主進步黨)\n林靜儀(民主進步黨)\n邱志偉(民主進步黨)\n邱議瑩(民主進步黨)\n姚文智(民主進步黨)\n柯建銘(民主進步黨)\n段宜康(民主進步黨)\n洪宗熠(民主進步黨)\n洪慈庸(無黨籍)\n徐永明(時代力量)\n徐國勇(民主進步黨)\n高志鵬(民主進步黨)\n高潞．以用．巴魕剌(時代力量)\n張宏陸(民主進步黨)\n張廖萬堅(民主進步黨)\n莊瑞雄(民主進步黨)\n許智傑(民主進步黨)\n陳其邁(民主進步黨)\n陳明文(民主進步黨)\n陳亭妃(民主進步黨)\n陳素月(民主進步黨)\n陳曼麗(民主進步黨)\n陳歐珀(民主進步黨)\n陳瑩(民主進步黨)\n陳賴素美(民主進步黨)\n黃秀芳(民主進步黨)\n黃偉哲(民主進步黨)\n黃國昌(時代力量)\n黃國書(民主進步黨)\n楊曜(民主進步黨)\n葉宜津(民主進步黨)\n管碧玲(民主進步黨)\n趙天麟(民主進步黨)\n趙正宇(無黨籍)\n劉世芳(民主進步黨)\n劉建國(民主進步黨)\n劉櫂豪(民主進步黨)\n蔡易餘(民主進步黨)\n蔡培慧(民主進步黨)\n蔡適應(民主進步黨)\n鄭運鵬(民主進步黨)\n鄭麗君(民主進步黨)\n鄭寶清(民主進步黨)\n蕭美琴(民主進步黨)\n賴瑞隆(民主進步黨)\n鍾孔炤(民主進步黨)\n鍾佳濱(民主進步黨)\n羅致政(民主進步黨)\n蘇巧慧(民主進步黨)\n蘇治芬(民主進步黨)\n蘇嘉全(民主進步黨)\n蘇震清(民主進步黨)\n顧立雄(民主進步黨)\n施義芳(民主進步黨)\n李麗芬(民主進步黨)\n郭正亮(民主進步黨)\n邱泰源(民主進步黨)\n蔣絜安(民主進步黨)\n陳靜敏(民主進步黨)\n何志偉(民主進步黨)\n===========================\n蔡其昌(民主進步黨)\n===========================\n余天(民主進步黨)\n===========================\n郭國文(民主進步黨)\n===========================\n柯呈枋(中國國民黨)\n===========================\n陳玉珍(中國國民黨)\n===========================\n鄭秀玲(時代力量)\n===========================\n"
     ]
    }
   ],
   "source": [
    "for community in bill_total_graph.communities:\n",
    "    for member in community:\n",
    "        print('{}({})'.format(legislator_list[member].name, legislator_list[member].party))\n",
    "    print(\"===========================\")"
   ]
  },
  {
   "cell_type": "code",
   "execution_count": 20,
   "metadata": {},
   "outputs": [],
   "source": [
    "import pandas as pd\n"
   ]
  },
  {
   "cell_type": "code",
   "execution_count": 23,
   "metadata": {},
   "outputs": [],
   "source": [
    "weights = [edge.weight for edge in bill_total_graph.edges]"
   ]
  },
  {
   "cell_type": "code",
   "execution_count": 24,
   "metadata": {},
   "outputs": [],
   "source": [
    "se = pd.Series(weights)"
   ]
  },
  {
   "cell_type": "code",
   "execution_count": 27,
   "metadata": {},
   "outputs": [
    {
     "output_type": "execute_result",
     "data": {
      "text/plain": [
       "0.25      7.00\n",
       "0.50     35.00\n",
       "0.75    188.75\n",
       "0.80    230.00\n",
       "0.85    277.00\n",
       "0.90    336.00\n",
       "0.95    424.00\n",
       "dtype: float64"
      ]
     },
     "metadata": {},
     "execution_count": 27
    }
   ],
   "source": [
    "se.quantile([.25, .5, .75, .80, .85, .90, .95])"
   ]
  },
  {
   "cell_type": "code",
   "execution_count": 60,
   "metadata": {},
   "outputs": [],
   "source": [
    "with open('../data/graph.json', 'w') as file:\n",
    "    json.dump(bill_total_graph.to_dict(), file)"
   ]
  },
  {
   "cell_type": "code",
   "execution_count": 34,
   "metadata": {},
   "outputs": [],
   "source": [
    "pary_set = set()\n",
    "for legislator in legislator_list:\n",
    "    pary_set.add(legislator.party)"
   ]
  },
  {
   "cell_type": "code",
   "execution_count": 35,
   "metadata": {},
   "outputs": [],
   "source": [
    "party_list = list(pary_set)"
   ]
  },
  {
   "cell_type": "code",
   "execution_count": 36,
   "metadata": {},
   "outputs": [
    {
     "output_type": "execute_result",
     "data": {
      "text/plain": [
       "['親民黨', '民主進步黨', '無黨團結聯盟', '中國國民黨', '時代力量', '無黨籍']"
      ]
     },
     "metadata": {},
     "execution_count": 36
    }
   ],
   "source": [
    "party_list"
   ]
  },
  {
   "source": [
    "最多人連署的法案 (非以黨團名義提出之法案)"
   ],
   "cell_type": "markdown",
   "metadata": {}
  },
  {
   "cell_type": "code",
   "execution_count": 24,
   "metadata": {},
   "outputs": [],
   "source": [
    "bill_count_list = [(bill.bill_name, len(bill.bill_cosignatory)) for bill in remove_none_legislator_bill_list]\n",
    "bill_count_list.sort(key=lambda x: x[1], reverse=True)"
   ]
  },
  {
   "cell_type": "code",
   "execution_count": 25,
   "metadata": {},
   "outputs": [
    {
     "output_type": "stream",
     "name": "stdout",
     "text": [
      "[('電業法修正草案', 48), ('食品安全衛生管理法部分條文修正草案', 45), ('警察人員人事條例第二十二條附表一修正草案', 43), ('民法親屬編部分條文修正草案', 42), ('行政院組織法第三條及第四條條文修正草案', 41), ('中央行政機關組織基準法第二十九條及第三十條條文修正草案', 41), ('政黨不當取得財產處理條例草案', 41), ('海洋及漁業部組織法草案', 39), ('政黨法草案', 39), ('二零六震災重建特別條例草案', 39)]\n[('野生動物保育法第二十一條之一條文修正草案', 10), ('海洋及漁業部水產試驗所組織法草案', 10), ('海洋及漁業部港灣研究所組織法草案', 10), ('國家海洋研究院組織法修正草案', 10), ('放射性物料管理法第二十一條條文修正草案', 10), ('國家運輸安全調查法草案', 9), ('毒品危害防制條例第四條條文修正草案', 9), ('恢復慰安婦名譽及賠償條例草案', 9), ('地方民意代表費用支給及村里長事務補助費補助條例第七條條文修正草案', 9), ('道路交通管理處罰條例第七十八條條文修正草案', 9)]\n"
     ]
    }
   ],
   "source": [
    "print(bill_count_list[:10])\n",
    "print(bill_count_list[-11:-1])"
   ]
  },
  {
   "source": [
    "發起聯署最多/最少的立委\n"
   ],
   "cell_type": "markdown",
   "metadata": {}
  },
  {
   "cell_type": "code",
   "execution_count": 26,
   "metadata": {},
   "outputs": [],
   "source": [
    "total_proposed_number_dict = {}\n",
    "for bill in remove_none_legislator_bill_list:\n",
    "    for name in bill.bill_proposer:\n",
    "        if name in total_proposed_number_dict:\n",
    "            total_proposed_number_dict[name] += 1\n",
    "        else:\n",
    "            total_proposed_number_dict[name] = 1"
   ]
  },
  {
   "cell_type": "code",
   "execution_count": 27,
   "metadata": {},
   "outputs": [],
   "source": [
    "total_proposed_number_list = [(name, count) for name, count in total_proposed_number_dict.items()]"
   ]
  },
  {
   "cell_type": "code",
   "execution_count": 28,
   "metadata": {},
   "outputs": [],
   "source": [
    "total_proposed_number_list.sort(key=lambda x: x[1], reverse=True)"
   ]
  },
  {
   "cell_type": "code",
   "execution_count": 29,
   "metadata": {},
   "outputs": [
    {
     "output_type": "stream",
     "name": "stdout",
     "text": [
      "[('莊瑞雄', 308), ('蘇震清', 278), ('林俊憲', 217), ('邱志偉', 192), ('呂孫綾', 186), ('蔡易餘', 181), ('賴瑞隆', 173), ('鄭寶清', 170), ('黃國書', 155), ('顏寬恒', 147)]\n[('蔣絜安', 12), ('李鴻鈞', 12), ('李應元', 11), ('黃國昌', 9), ('柯建銘', 7), ('沈智慧', 6), ('何志偉', 5), ('林奕華', 4), ('童惠珍', 4), ('王金平', 4)]\n"
     ]
    }
   ],
   "source": [
    "print(total_proposed_number_list[0:10])\n",
    "print(total_proposed_number_list[-11:-1])"
   ]
  },
  {
   "source": [
    "被連署最多/最少的立委"
   ],
   "cell_type": "markdown",
   "metadata": {}
  },
  {
   "cell_type": "code",
   "execution_count": 30,
   "metadata": {},
   "outputs": [],
   "source": [
    "total_sign_number_dict = {}\n",
    "for bill in remove_none_legislator_bill_list:\n",
    "    for name in bill.bill_proposer:\n",
    "        if name in total_sign_number_dict:\n",
    "            total_sign_number_dict[name] += len(bill.bill_cosignatory)\n",
    "        else:\n",
    "            total_sign_number_dict[name] = len(bill.bill_cosignatory)"
   ]
  },
  {
   "cell_type": "code",
   "execution_count": 31,
   "metadata": {},
   "outputs": [],
   "source": [
    "total_sign_number_list = [(name, count) for name, count in total_sign_number_dict.items()]\n",
    "total_sign_number_list.sort(key=lambda x: x[1], reverse=True)"
   ]
  },
  {
   "cell_type": "code",
   "execution_count": 32,
   "metadata": {},
   "outputs": [
    {
     "output_type": "stream",
     "name": "stdout",
     "text": [
      "[('莊瑞雄', 5121), ('蘇震清', 4523), ('林俊憲', 3557), ('呂孫綾', 3218), ('蔡易餘', 3149), ('邱志偉', 3081), ('賴瑞隆', 2815), ('鄭寶清', 2748), ('黃國書', 2505), ('陳亭妃', 2431)]\n[('李鴻鈞', 218), ('黃國昌', 214), ('蔣絜安', 192), ('李應元', 191), ('柯建銘', 132), ('沈智慧', 107), ('王金平', 95), ('何志偉', 88), ('林奕華', 69), ('童惠珍', 69)]\n"
     ]
    }
   ],
   "source": [
    "print(total_sign_number_list[0:10])\n",
    "print(total_sign_number_list[-11:-1])"
   ]
  },
  {
   "source": [
    "兩大黨中誰會為對方聯署"
   ],
   "cell_type": "markdown",
   "metadata": {}
  },
  {
   "cell_type": "code",
   "execution_count": 30,
   "metadata": {},
   "outputs": [],
   "source": [
    "two_biggest_party = set(['中國國民黨', '民主進步黨'])"
   ]
  },
  {
   "cell_type": "code",
   "execution_count": 31,
   "metadata": {},
   "outputs": [],
   "source": [
    "against_party_dict = {}\n",
    "for bill in remove_none_legislator_bill_list:\n",
    "    proposer_party_set = set()\n",
    "    for proposer in bill.bill_proposer:\n",
    "        proposer_party = legislator_list[legislator_reverse_map[proposer]].party\n",
    "        if proposer_party in two_biggest_party:\n",
    "            proposer_party_set.add(proposer_party)\n",
    "    # proposed by only party\n",
    "    if len(proposer_party_set) == 1:\n",
    "        proposer_party = list(proposer_party_set)[0]\n",
    "        for cosigner in bill.bill_cosignatory:\n",
    "            legislator = legislator_list[legislator_reverse_map[cosigner]]\n",
    "            if legislator.party in two_biggest_party and legislator.party != proposer_party:\n",
    "                if legislator.name in against_party_dict:\n",
    "                    against_party_dict[legislator.name] += 1\n",
    "                else:\n",
    "                    against_party_dict[legislator.name] = 1\n",
    "        \n"
   ]
  },
  {
   "cell_type": "code",
   "execution_count": 32,
   "metadata": {},
   "outputs": [],
   "source": [
    "against_party_list = [(name, times) for name, times in against_party_dict.items()]\n",
    "against_party_list.sort(key=lambda x: x[1], reverse=True)"
   ]
  },
  {
   "cell_type": "code",
   "execution_count": 33,
   "metadata": {},
   "outputs": [
    {
     "output_type": "execute_result",
     "data": {
      "text/plain": [
       "[('柯志恩', 36),\n",
       " ('鄭天財', 30),\n",
       " ('陳雪生', 27),\n",
       " ('許毓仁', 26),\n",
       " ('林麗蟬', 20),\n",
       " ('曾銘宗', 19),\n",
       " ('羅明才', 17),\n",
       " ('江永昌', 16),\n",
       " ('鄭寶清', 16),\n",
       " ('陳超明', 15)]"
      ]
     },
     "metadata": {},
     "execution_count": 33
    }
   ],
   "source": [
    "against_party_list[:10]"
   ]
  },
  {
   "source": [
    "小黨在連署中的特色"
   ],
   "cell_type": "markdown",
   "metadata": {}
  },
  {
   "cell_type": "code",
   "execution_count": null,
   "metadata": {},
   "outputs": [],
   "source": [
    "class Question:\n",
    "    def __init__(self, name):\n",
    "        self.name = name\n",
    "        self.legislator_list = []\n",
    "        self.count_list = []\n",
    "    \n",
    "    def to_dict(self):\n",
    "        return "
   ]
  }
 ],
 "metadata": {
  "kernelspec": {
   "display_name": "Python 3",
   "language": "python",
   "name": "python3"
  },
  "language_info": {
   "codemirror_mode": {
    "name": "ipython",
    "version": 3
   },
   "file_extension": ".py",
   "mimetype": "text/x-python",
   "name": "python",
   "nbconvert_exporter": "python",
   "pygments_lexer": "ipython3",
   "version": "3.7.2-final"
  }
 },
 "nbformat": 4,
 "nbformat_minor": 2
}